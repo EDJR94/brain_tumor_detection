{
 "cells": [
  {
   "cell_type": "markdown",
   "id": "24efe7a1",
   "metadata": {},
   "source": [
    "# 0.0 IMPORTS"
   ]
  },
  {
   "cell_type": "code",
   "execution_count": 47,
   "id": "4aef6bd0",
   "metadata": {
    "ExecuteTime": {
     "end_time": "2023-08-15T18:07:08.473167Z",
     "start_time": "2023-08-15T18:07:08.465630Z"
    }
   },
   "outputs": [],
   "source": [
    "import os\n",
    "import numpy as np\n",
    "import tensorflow as tf\n",
    "from tensorflow.keras.preprocessing.image import ImageDataGenerator\n",
    "from tensorflow.keras.applications import VGG16  # ou outra arquitetura de CNN\n",
    "from tensorflow.keras.layers import Flatten, Dense, Dropout\n",
    "from tensorflow.keras.models import Model\n",
    "from tensorflow.keras.callbacks import EarlyStopping\n",
    "from PIL import Image\n",
    "\n",
    "from functools import partial\n"
   ]
  },
  {
   "cell_type": "code",
   "execution_count": 48,
   "id": "f4c809bf",
   "metadata": {
    "ExecuteTime": {
     "end_time": "2023-08-15T18:07:08.723594Z",
     "start_time": "2023-08-15T18:07:08.699351Z"
    }
   },
   "outputs": [],
   "source": [
    "tf.keras.backend.clear_session()"
   ]
  },
  {
   "cell_type": "code",
   "execution_count": 49,
   "id": "b0aac953",
   "metadata": {
    "ExecuteTime": {
     "end_time": "2023-08-15T18:07:09.033837Z",
     "start_time": "2023-08-15T18:07:09.025719Z"
    }
   },
   "outputs": [],
   "source": [
    "path = 'C:/Users/edils/repos/brain_tumor_detection/data/'"
   ]
  },
  {
   "cell_type": "code",
   "execution_count": 61,
   "id": "ff7e7362",
   "metadata": {
    "ExecuteTime": {
     "end_time": "2023-08-15T18:15:05.222205Z",
     "start_time": "2023-08-15T18:15:05.178441Z"
    }
   },
   "outputs": [
    {
     "name": "stdout",
     "output_type": "stream",
     "text": [
      "Found 193 images belonging to 2 classes.\n",
      "Found 50 images belonging to 2 classes.\n",
      "Found 10 images belonging to 2 classes.\n"
     ]
    }
   ],
   "source": [
    "train_datagen = ImageDataGenerator(\n",
    "    rotation_range=15,\n",
    "    width_shift_range=0.05,\n",
    "    height_shift_range=0.05,\n",
    "    rescale=1./255,\n",
    "    shear_range=0.05,\n",
    "    brightness_range=[0.1, 1.5],\n",
    "    horizontal_flip=True,\n",
    "    vertical_flip=True\n",
    ")\n",
    "\n",
    "train_generator = train_datagen.flow_from_directory(\n",
    "    path + 'train/',\n",
    "    target_size=(150, 150),  # Tamanho das imagens após o redimensionamento\n",
    "    batch_size=32,\n",
    "    class_mode='binary'  # Ou 'categorical' se houver mais classes\n",
    ")\n",
    "\n",
    "validation_datagen = ImageDataGenerator(rescale=1.0/255)\n",
    "\n",
    "validation_generator = validation_datagen.flow_from_directory(\n",
    "    path + 'validation/',\n",
    "    target_size=(150, 150),\n",
    "    batch_size=32,\n",
    "    class_mode='binary'\n",
    ")\n",
    "\n",
    "test_datagen = ImageDataGenerator(rescale=1.0/255)\n",
    "\n",
    "test_generator = test_datagen.flow_from_directory(\n",
    "    path + 'test/',\n",
    "    target_size=(150, 150),\n",
    "    batch_size=32,\n",
    "    class_mode='binary'\n",
    ")"
   ]
  },
  {
   "cell_type": "code",
   "execution_count": 62,
   "id": "75afbfe4",
   "metadata": {
    "ExecuteTime": {
     "end_time": "2023-08-15T18:15:10.257688Z",
     "start_time": "2023-08-15T18:15:10.242689Z"
    }
   },
   "outputs": [],
   "source": [
    "# DefaultConv2D = partial(tf.keras.layers.Conv2D, \n",
    "#                         kernel_size=3, \n",
    "#                         padding='same', \n",
    "#                         activation='relu',\n",
    "#                         kernel_initializer='he_normal')\n",
    "\n",
    "# model = tf.keras.models.Sequential([\n",
    "#     tf.keras.layers.Rescaling(1/255, input_shape=(224,224,3)),\n",
    "#     DefaultConv2D(filters=64, kernel_size=7),\n",
    "#     tf.keras.layers.MaxPool2D(),\n",
    "#     DefaultConv2D(filters=128),\n",
    "#     DefaultConv2D(filters=128),\n",
    "#     tf.keras.layers.MaxPool2D(),\n",
    "#     DefaultConv2D(filters=256),\n",
    "#     DefaultConv2D(filters=256),\n",
    "#     tf.keras.layers.MaxPool2D(),\n",
    "    \n",
    "#     tf.keras.layers.Flatten(),\n",
    "#     tf.keras.layers.Dense(units=128,\n",
    "#                           activation='relu',\n",
    "#                           kernel_initializer='he_normal'),\n",
    "#     tf.keras.layers.Dropout(0.5),\n",
    "#     tf.keras.layers.Dense(units=64,\n",
    "#                           activation='relu',\n",
    "#                           kernel_initializer='he_normal'),\n",
    "#     tf.keras.layers.Dropout(0.5),\n",
    "#     tf.keras.layers.Dense(units=1, activation='sigmoid')\n",
    "# ])\n",
    "\n",
    "def create_model():\n",
    "    model = tf.keras.Sequential([\n",
    "        tf.keras.layers.Rescaling(1/255, input_shape=(150, 150, 3)),\n",
    "        tf.keras.layers.Conv2D(16, (3,3), activation='relu'),\n",
    "        tf.keras.layers.MaxPooling2D(2,2),\n",
    "        tf.keras.layers.Conv2D(32, (3,3), activation='relu'),\n",
    "        tf.keras.layers.MaxPooling2D(2,2),\n",
    "        tf.keras.layers.Flatten(),\n",
    "        tf.keras.layers.Dense(32, activation='relu'),\n",
    "        tf.keras.layers.Dense(64, activation='relu'),\n",
    "        tf.keras.layers.Dense(1, activation='sigmoid')\n",
    "    ])\n",
    "    \n",
    "    model.compile(optimizer='adam',\n",
    "                  loss='binary_crossentropy',\n",
    "                  metrics=['accuracy'])\n",
    "    return model"
   ]
  },
  {
   "cell_type": "code",
   "execution_count": 63,
   "id": "c720df1f",
   "metadata": {
    "ExecuteTime": {
     "end_time": "2023-08-15T18:15:11.086562Z",
     "start_time": "2023-08-15T18:15:11.012598Z"
    }
   },
   "outputs": [],
   "source": [
    "model = create_model()"
   ]
  },
  {
   "cell_type": "code",
   "execution_count": 64,
   "id": "b616873f",
   "metadata": {
    "ExecuteTime": {
     "end_time": "2023-08-15T18:15:11.791925Z",
     "start_time": "2023-08-15T18:15:11.779153Z"
    }
   },
   "outputs": [],
   "source": [
    "model.compile(optimizer='adam', loss='binary_crossentropy', metrics=['accuracy'])"
   ]
  },
  {
   "cell_type": "code",
   "execution_count": 65,
   "id": "72db84b2",
   "metadata": {
    "ExecuteTime": {
     "end_time": "2023-08-15T18:15:12.371129Z",
     "start_time": "2023-08-15T18:15:12.351702Z"
    }
   },
   "outputs": [
    {
     "name": "stdout",
     "output_type": "stream",
     "text": [
      "Model: \"sequential_2\"\n",
      "_________________________________________________________________\n",
      " Layer (type)                Output Shape              Param #   \n",
      "=================================================================\n",
      " rescaling_2 (Rescaling)     (None, 150, 150, 3)       0         \n",
      "                                                                 \n",
      " conv2d_7 (Conv2D)           (None, 148, 148, 16)      448       \n",
      "                                                                 \n",
      " max_pooling2d_5 (MaxPoolin  (None, 74, 74, 16)        0         \n",
      " g2D)                                                            \n",
      "                                                                 \n",
      " conv2d_8 (Conv2D)           (None, 72, 72, 32)        4640      \n",
      "                                                                 \n",
      " max_pooling2d_6 (MaxPoolin  (None, 36, 36, 32)        0         \n",
      " g2D)                                                            \n",
      "                                                                 \n",
      " flatten_2 (Flatten)         (None, 41472)             0         \n",
      "                                                                 \n",
      " dense_6 (Dense)             (None, 32)                1327136   \n",
      "                                                                 \n",
      " dense_7 (Dense)             (None, 64)                2112      \n",
      "                                                                 \n",
      " dense_8 (Dense)             (None, 1)                 65        \n",
      "                                                                 \n",
      "=================================================================\n",
      "Total params: 1334401 (5.09 MB)\n",
      "Trainable params: 1334401 (5.09 MB)\n",
      "Non-trainable params: 0 (0.00 Byte)\n",
      "_________________________________________________________________\n"
     ]
    }
   ],
   "source": [
    "model.summary()"
   ]
  },
  {
   "cell_type": "code",
   "execution_count": 66,
   "id": "fcb8c98c",
   "metadata": {
    "ExecuteTime": {
     "end_time": "2023-08-15T18:15:25.829002Z",
     "start_time": "2023-08-15T18:15:14.892643Z"
    }
   },
   "outputs": [
    {
     "name": "stdout",
     "output_type": "stream",
     "text": [
      "Epoch 1/30\n",
      "7/7 [==============================] - 2s 211ms/step - loss: 0.6917 - accuracy: 0.6114 - val_loss: 0.6857 - val_accuracy: 0.6200\n",
      "Epoch 2/30\n",
      "7/7 [==============================] - 1s 187ms/step - loss: 0.6834 - accuracy: 0.6166 - val_loss: 0.6809 - val_accuracy: 0.6200\n",
      "Epoch 3/30\n",
      "7/7 [==============================] - 1s 191ms/step - loss: 0.6866 - accuracy: 0.6166 - val_loss: 0.6845 - val_accuracy: 0.6200\n",
      "Epoch 4/30\n",
      "7/7 [==============================] - 1s 201ms/step - loss: 0.6810 - accuracy: 0.6166 - val_loss: 0.6709 - val_accuracy: 0.6200\n",
      "Epoch 5/30\n",
      "7/7 [==============================] - 1s 200ms/step - loss: 0.6671 - accuracy: 0.6166 - val_loss: 0.6639 - val_accuracy: 0.6200\n",
      "Epoch 6/30\n",
      "7/7 [==============================] - 1s 206ms/step - loss: 0.6826 - accuracy: 0.6166 - val_loss: 0.6750 - val_accuracy: 0.6200\n",
      "Epoch 7/30\n",
      "7/7 [==============================] - 1s 193ms/step - loss: 0.6622 - accuracy: 0.6166 - val_loss: 0.6610 - val_accuracy: 0.6200\n"
     ]
    }
   ],
   "source": [
    "epochs=30\n",
    "batch_size=32\n",
    "early_stopping = EarlyStopping(\n",
    "                monitor='val_accuracy', \n",
    "                mode='max',\n",
    "                patience=6\n",
    ")\n",
    "\n",
    "history = model.fit(\n",
    "        train_generator,\n",
    "        epochs=epochs,\n",
    "        validation_data=validation_generator,\n",
    "        callbacks=[early_stopping]\n",
    ")"
   ]
  },
  {
   "cell_type": "code",
   "execution_count": 67,
   "id": "d43dd1b7",
   "metadata": {
    "ExecuteTime": {
     "end_time": "2023-08-15T18:15:30.746780Z",
     "start_time": "2023-08-15T18:15:30.654770Z"
    }
   },
   "outputs": [
    {
     "name": "stdout",
     "output_type": "stream",
     "text": [
      "1/1 [==============================] - 0s 40ms/step - loss: 0.7174 - accuracy: 0.5000\n",
      "Test accuracy: 0.5\n"
     ]
    }
   ],
   "source": [
    "test_loss, test_acc = model.evaluate(test_generator)\n",
    "print(\"Test accuracy:\", test_acc)"
   ]
  },
  {
   "cell_type": "code",
   "execution_count": null,
   "id": "8cce3e55",
   "metadata": {},
   "outputs": [],
   "source": []
  },
  {
   "cell_type": "code",
   "execution_count": null,
   "id": "6a77cbce",
   "metadata": {},
   "outputs": [],
   "source": []
  },
  {
   "cell_type": "code",
   "execution_count": null,
   "id": "e7ff93d8",
   "metadata": {},
   "outputs": [],
   "source": []
  },
  {
   "cell_type": "code",
   "execution_count": null,
   "id": "fc126cf3",
   "metadata": {},
   "outputs": [],
   "source": []
  }
 ],
 "metadata": {
  "kernelspec": {
   "display_name": "Python 3 (ipykernel)",
   "language": "python",
   "name": "python3"
  },
  "language_info": {
   "codemirror_mode": {
    "name": "ipython",
    "version": 3
   },
   "file_extension": ".py",
   "mimetype": "text/x-python",
   "name": "python",
   "nbconvert_exporter": "python",
   "pygments_lexer": "ipython3",
   "version": "3.10.12"
  }
 },
 "nbformat": 4,
 "nbformat_minor": 5
}

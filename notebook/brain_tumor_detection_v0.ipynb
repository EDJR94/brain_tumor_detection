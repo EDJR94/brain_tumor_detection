{
 "cells": [
  {
   "cell_type": "markdown",
   "id": "24efe7a1",
   "metadata": {},
   "source": [
    "# 0.0 IMPORTS"
   ]
  },
  {
   "cell_type": "code",
   "execution_count": 1,
   "id": "4aef6bd0",
   "metadata": {
    "ExecuteTime": {
     "end_time": "2023-08-15T10:46:48.448371Z",
     "start_time": "2023-08-15T10:46:44.629652Z"
    }
   },
   "outputs": [],
   "source": [
    "import os\n",
    "import numpy as np\n",
    "import tensorflow as tf\n",
    "from tensorflow.keras.preprocessing.image import ImageDataGenerator\n",
    "import matplotlib.pyplot as plt\n",
    "from PIL import Image\n",
    "from tensorflow.keras.preprocessing.image import load_img\n",
    "import shutil\n",
    "from sklearn.model_selection import train_test_split\n"
   ]
  },
  {
   "cell_type": "code",
   "execution_count": 5,
   "id": "b3504a73",
   "metadata": {
    "ExecuteTime": {
     "end_time": "2023-08-15T10:47:56.928890Z",
     "start_time": "2023-08-15T10:47:56.911466Z"
    }
   },
   "outputs": [],
   "source": [
    "# Diretório onde as imagens originais estão localizadas\n",
    "source_dir = 'C:/Users/edils/repos/brain_tumor_detection/data/'  # Substitua pelo caminho correto\n",
    "\n",
    "# Diretórios para as pastas de treino, validação e teste\n",
    "train_dir = 'C:/Users/edils/repos/brain_tumor_detection/data/train'\n",
    "validation_dir = 'C:/Users/edils/repos/brain_tumor_detection/data/validation'\n",
    "test_dir = 'C:/Users/edils/repos/brain_tumor_detection/data/test'\n",
    "\n",
    "# Crie os diretórios se eles não existirem\n",
    "os.makedirs(train_dir, exist_ok=True)\n",
    "os.makedirs(validation_dir, exist_ok=True)\n",
    "os.makedirs(test_dir, exist_ok=True)\n",
    "\n"
   ]
  },
  {
   "cell_type": "code",
   "execution_count": 6,
   "id": "a0e45884",
   "metadata": {
    "ExecuteTime": {
     "end_time": "2023-08-15T10:47:59.155632Z",
     "start_time": "2023-08-15T10:47:59.134881Z"
    }
   },
   "outputs": [],
   "source": [
    "# Lista de nomes de arquivos das imagens\n",
    "image_names = os.listdir(source_dir)\n",
    "\n",
    "# Divide as imagens em treino (60%), validação (20%) e teste (20%)\n",
    "train_names, test_valid_names = train_test_split(image_names, test_size=0.4, random_state=42)\n",
    "test_names, validation_names = train_test_split(test_valid_names, test_size=0.5, random_state=42)"
   ]
  },
  {
   "cell_type": "code",
   "execution_count": 7,
   "id": "78700570",
   "metadata": {
    "ExecuteTime": {
     "end_time": "2023-08-15T10:48:01.570829Z",
     "start_time": "2023-08-15T10:48:01.497443Z"
    }
   },
   "outputs": [
    {
     "ename": "PermissionError",
     "evalue": "[Errno 13] Permission denied: 'C:/Users/edils/repos/brain_tumor_detection/data/train'",
     "output_type": "error",
     "traceback": [
      "\u001b[1;31m---------------------------------------------------------------------------\u001b[0m",
      "\u001b[1;31mPermissionError\u001b[0m                           Traceback (most recent call last)",
      "Cell \u001b[1;32mIn[7], line 7\u001b[0m\n\u001b[0;32m      4\u001b[0m         dest_path \u001b[38;5;241m=\u001b[39m os\u001b[38;5;241m.\u001b[39mpath\u001b[38;5;241m.\u001b[39mjoin(destination, file_name)\n\u001b[0;32m      5\u001b[0m         shutil\u001b[38;5;241m.\u001b[39mcopy(src_path, dest_path)\n\u001b[1;32m----> 7\u001b[0m \u001b[43mmove_images\u001b[49m\u001b[43m(\u001b[49m\u001b[43mtrain_names\u001b[49m\u001b[43m,\u001b[49m\u001b[43m \u001b[49m\u001b[43msource_dir\u001b[49m\u001b[43m,\u001b[49m\u001b[43m \u001b[49m\u001b[43mtrain_dir\u001b[49m\u001b[43m)\u001b[49m\n\u001b[0;32m      8\u001b[0m move_images(validation_names, source_dir, validation_dir)\n\u001b[0;32m      9\u001b[0m move_images(test_names, source_dir, test_dir)\n",
      "Cell \u001b[1;32mIn[7], line 5\u001b[0m, in \u001b[0;36mmove_images\u001b[1;34m(file_names, source, destination)\u001b[0m\n\u001b[0;32m      3\u001b[0m src_path \u001b[38;5;241m=\u001b[39m os\u001b[38;5;241m.\u001b[39mpath\u001b[38;5;241m.\u001b[39mjoin(source, file_name)\n\u001b[0;32m      4\u001b[0m dest_path \u001b[38;5;241m=\u001b[39m os\u001b[38;5;241m.\u001b[39mpath\u001b[38;5;241m.\u001b[39mjoin(destination, file_name)\n\u001b[1;32m----> 5\u001b[0m \u001b[43mshutil\u001b[49m\u001b[38;5;241;43m.\u001b[39;49m\u001b[43mcopy\u001b[49m\u001b[43m(\u001b[49m\u001b[43msrc_path\u001b[49m\u001b[43m,\u001b[49m\u001b[43m \u001b[49m\u001b[43mdest_path\u001b[49m\u001b[43m)\u001b[49m\n",
      "File \u001b[1;32m~\\anaconda3\\envs\\brain_tumor_detection\\lib\\shutil.py:417\u001b[0m, in \u001b[0;36mcopy\u001b[1;34m(src, dst, follow_symlinks)\u001b[0m\n\u001b[0;32m    415\u001b[0m \u001b[38;5;28;01mif\u001b[39;00m os\u001b[38;5;241m.\u001b[39mpath\u001b[38;5;241m.\u001b[39misdir(dst):\n\u001b[0;32m    416\u001b[0m     dst \u001b[38;5;241m=\u001b[39m os\u001b[38;5;241m.\u001b[39mpath\u001b[38;5;241m.\u001b[39mjoin(dst, os\u001b[38;5;241m.\u001b[39mpath\u001b[38;5;241m.\u001b[39mbasename(src))\n\u001b[1;32m--> 417\u001b[0m \u001b[43mcopyfile\u001b[49m\u001b[43m(\u001b[49m\u001b[43msrc\u001b[49m\u001b[43m,\u001b[49m\u001b[43m \u001b[49m\u001b[43mdst\u001b[49m\u001b[43m,\u001b[49m\u001b[43m \u001b[49m\u001b[43mfollow_symlinks\u001b[49m\u001b[38;5;241;43m=\u001b[39;49m\u001b[43mfollow_symlinks\u001b[49m\u001b[43m)\u001b[49m\n\u001b[0;32m    418\u001b[0m copymode(src, dst, follow_symlinks\u001b[38;5;241m=\u001b[39mfollow_symlinks)\n\u001b[0;32m    419\u001b[0m \u001b[38;5;28;01mreturn\u001b[39;00m dst\n",
      "File \u001b[1;32m~\\anaconda3\\envs\\brain_tumor_detection\\lib\\shutil.py:254\u001b[0m, in \u001b[0;36mcopyfile\u001b[1;34m(src, dst, follow_symlinks)\u001b[0m\n\u001b[0;32m    252\u001b[0m     os\u001b[38;5;241m.\u001b[39msymlink(os\u001b[38;5;241m.\u001b[39mreadlink(src), dst)\n\u001b[0;32m    253\u001b[0m \u001b[38;5;28;01melse\u001b[39;00m:\n\u001b[1;32m--> 254\u001b[0m     \u001b[38;5;28;01mwith\u001b[39;00m \u001b[38;5;28;43mopen\u001b[39;49m\u001b[43m(\u001b[49m\u001b[43msrc\u001b[49m\u001b[43m,\u001b[49m\u001b[43m \u001b[49m\u001b[38;5;124;43m'\u001b[39;49m\u001b[38;5;124;43mrb\u001b[39;49m\u001b[38;5;124;43m'\u001b[39;49m\u001b[43m)\u001b[49m \u001b[38;5;28;01mas\u001b[39;00m fsrc:\n\u001b[0;32m    255\u001b[0m         \u001b[38;5;28;01mtry\u001b[39;00m:\n\u001b[0;32m    256\u001b[0m             \u001b[38;5;28;01mwith\u001b[39;00m \u001b[38;5;28mopen\u001b[39m(dst, \u001b[38;5;124m'\u001b[39m\u001b[38;5;124mwb\u001b[39m\u001b[38;5;124m'\u001b[39m) \u001b[38;5;28;01mas\u001b[39;00m fdst:\n\u001b[0;32m    257\u001b[0m                 \u001b[38;5;66;03m# macOS\u001b[39;00m\n",
      "\u001b[1;31mPermissionError\u001b[0m: [Errno 13] Permission denied: 'C:/Users/edils/repos/brain_tumor_detection/data/train'"
     ]
    }
   ],
   "source": [
    "def move_images(file_names, source, destination):\n",
    "    for file_name in file_names:\n",
    "        src_path = os.path.join(source, file_name)\n",
    "        dest_path = os.path.join(destination, file_name)\n",
    "        shutil.copy(src_path, dest_path)\n",
    "\n",
    "move_images(train_names, source_dir, train_dir)\n",
    "move_images(validation_names, source_dir, validation_dir)\n",
    "move_images(test_names, source_dir, test_dir)"
   ]
  },
  {
   "cell_type": "code",
   "execution_count": null,
   "id": "fb377cd6",
   "metadata": {
    "ExecuteTime": {
     "end_time": "2023-08-15T10:46:49.966680Z",
     "start_time": "2023-08-15T10:46:49.966680Z"
    }
   },
   "outputs": [],
   "source": [
    "data_dir = 'C:/Users/edils/repos/brain_tumor_detection/data/'\n",
    "\n",
    "train_yes_dir = os.path.join(data_dir, 'yes')\n",
    "train_no_dir = os.path.join(data_dir, 'no')"
   ]
  },
  {
   "cell_type": "code",
   "execution_count": null,
   "id": "ff7e7362",
   "metadata": {
    "ExecuteTime": {
     "end_time": "2023-08-15T10:46:49.968671Z",
     "start_time": "2023-08-15T10:46:49.968671Z"
    }
   },
   "outputs": [],
   "source": [
    "batch_size = 32\n",
    "img_height = 224\n",
    "img_width = 224\n",
    "\n",
    "data_gen = ImageDataGenerator(\n",
    "    rescale=1./255,\n",
    "    validation_split=0.2\n",
    ")\n",
    "\n",
    "train_generator = data_gen.flow_from_directory(\n",
    "    data_dir,\n",
    "    target_size=(img_height, img_width),\n",
    "    batch_size=batch_size,\n",
    "    class_mode='binary',\n",
    "    classes=['no', 'yes'],\n",
    "    subset='training'\n",
    ")\n",
    "\n",
    "validation_generator = data_gen.flow_from_directory(\n",
    "    data_dir,\n",
    "    target_size=(img_height, img_width),\n",
    "    batch_size=batch_size,\n",
    "    class_mode='binary',\n",
    "    classes=['no', 'yes'],\n",
    "    subset='validation'\n",
    ")\n",
    "\n",
    "test_generator = data_gen.flow_from_directory(\n",
    "    data_dir,\n",
    "    target_size=(img_height, img_width),\n",
    "    batch_size=batch_size,\n",
    "    class_mode='binary',\n",
    "    classes=['no', 'yes'],\n",
    "    subset='test'  # Pode ser 'test' ou 'validation', dependendo da sua organização dos dados\n",
    ")"
   ]
  },
  {
   "cell_type": "code",
   "execution_count": null,
   "id": "13fa2894",
   "metadata": {
    "ExecuteTime": {
     "end_time": "2023-08-15T10:46:49.971662Z",
     "start_time": "2023-08-15T10:46:49.971662Z"
    }
   },
   "outputs": [],
   "source": [
    "image_path = 'C:/Users/edils/repos/brain_tumor_detection/data/yes/Y1.jpg'\n",
    "image = load_img(image_path, target_size=(128, 128))"
   ]
  },
  {
   "cell_type": "code",
   "execution_count": null,
   "id": "65acb858",
   "metadata": {
    "ExecuteTime": {
     "end_time": "2023-08-15T10:46:49.974238Z",
     "start_time": "2023-08-15T10:46:49.974238Z"
    }
   },
   "outputs": [],
   "source": [
    "image"
   ]
  },
  {
   "cell_type": "code",
   "execution_count": null,
   "id": "75afbfe4",
   "metadata": {},
   "outputs": [],
   "source": []
  },
  {
   "cell_type": "code",
   "execution_count": null,
   "id": "b616873f",
   "metadata": {},
   "outputs": [],
   "source": []
  },
  {
   "cell_type": "code",
   "execution_count": null,
   "id": "72db84b2",
   "metadata": {},
   "outputs": [],
   "source": []
  },
  {
   "cell_type": "code",
   "execution_count": null,
   "id": "fcb8c98c",
   "metadata": {},
   "outputs": [],
   "source": []
  },
  {
   "cell_type": "code",
   "execution_count": null,
   "id": "d43dd1b7",
   "metadata": {},
   "outputs": [],
   "source": []
  },
  {
   "cell_type": "code",
   "execution_count": null,
   "id": "8cce3e55",
   "metadata": {},
   "outputs": [],
   "source": []
  },
  {
   "cell_type": "code",
   "execution_count": null,
   "id": "6a77cbce",
   "metadata": {},
   "outputs": [],
   "source": []
  },
  {
   "cell_type": "code",
   "execution_count": null,
   "id": "e7ff93d8",
   "metadata": {},
   "outputs": [],
   "source": []
  },
  {
   "cell_type": "code",
   "execution_count": null,
   "id": "fc126cf3",
   "metadata": {},
   "outputs": [],
   "source": []
  }
 ],
 "metadata": {
  "kernelspec": {
   "display_name": "Python 3 (ipykernel)",
   "language": "python",
   "name": "python3"
  },
  "language_info": {
   "codemirror_mode": {
    "name": "ipython",
    "version": 3
   },
   "file_extension": ".py",
   "mimetype": "text/x-python",
   "name": "python",
   "nbconvert_exporter": "python",
   "pygments_lexer": "ipython3",
   "version": "3.10.12"
  }
 },
 "nbformat": 4,
 "nbformat_minor": 5
}

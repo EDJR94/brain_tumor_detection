{
 "cells": [
  {
   "cell_type": "markdown",
   "id": "24efe7a1",
   "metadata": {},
   "source": [
    "# 0.0 IMPORTS"
   ]
  },
  {
   "cell_type": "code",
   "execution_count": 26,
   "id": "4aef6bd0",
   "metadata": {
    "ExecuteTime": {
     "end_time": "2023-08-17T10:04:49.637230Z",
     "start_time": "2023-08-17T10:04:49.169138Z"
    }
   },
   "outputs": [],
   "source": [
    "import os\n",
    "import numpy as np\n",
    "import tensorflow as tf\n",
    "from tensorflow.keras.preprocessing.image import ImageDataGenerator\n",
    "from tensorflow.keras.applications import VGG16  # ou outra arquitetura de CNN\n",
    "from tensorflow.keras.layers import Flatten, Dense, Dropout\n",
    "from tensorflow.keras.models import Model\n",
    "from tensorflow.keras.callbacks import EarlyStopping\n",
    "from PIL import Image\n",
    "import matplotlib.pyplot as plt \n",
    "\n",
    "from functools import partial\n"
   ]
  },
  {
   "cell_type": "code",
   "execution_count": 16,
   "id": "f4c809bf",
   "metadata": {
    "ExecuteTime": {
     "end_time": "2023-08-17T10:03:52.231266Z",
     "start_time": "2023-08-17T10:03:52.205368Z"
    }
   },
   "outputs": [],
   "source": [
    "tf.keras.backend.clear_session()"
   ]
  },
  {
   "cell_type": "code",
   "execution_count": 17,
   "id": "b0aac953",
   "metadata": {
    "ExecuteTime": {
     "end_time": "2023-08-17T10:03:53.368341Z",
     "start_time": "2023-08-17T10:03:53.355271Z"
    }
   },
   "outputs": [
    {
     "name": "stdout",
     "output_type": "stream",
     "text": [
      "155\n",
      "98\n"
     ]
    }
   ],
   "source": [
    "path = 'C:/Users/edils/repos/brain_tumor_detection/data/'\n",
    "\n",
    "source_path_yes = os.path.join(path, 'yes')\n",
    "source_path_no = os.path.join(path, 'no')\n",
    "\n",
    "print(len(os.listdir(source_path_yes)))\n",
    "print(len(os.listdir(source_path_no)))"
   ]
  },
  {
   "cell_type": "code",
   "execution_count": 33,
   "id": "88bc492c",
   "metadata": {
    "ExecuteTime": {
     "end_time": "2023-08-17T10:11:15.535946Z",
     "start_time": "2023-08-17T10:11:15.463107Z"
    }
   },
   "outputs": [
    {
     "name": "stdout",
     "output_type": "stream",
     "text": [
      "Found 253 files belonging to 2 classes.\n",
      "Using 203 files for training.\n",
      "Using 50 files for validation.\n"
     ]
    }
   ],
   "source": [
    "train_datagen, val_datagen = tf.keras.utils.image_dataset_from_directory(\n",
    "    path,\n",
    "    labels='inferred',\n",
    "    label_mode = 'int',\n",
    "    batch_size=8,\n",
    "    image_size=(150,150),\n",
    "    shuffle=True,\n",
    "    seed = 13,\n",
    "    validation_split = 0.2,\n",
    "    subset='both'\n",
    ")"
   ]
  },
  {
   "cell_type": "code",
   "execution_count": 31,
   "id": "bd09e8df",
   "metadata": {
    "ExecuteTime": {
     "end_time": "2023-08-17T10:09:25.331970Z",
     "start_time": "2023-08-17T10:09:25.262099Z"
    }
   },
   "outputs": [
    {
     "name": "stdout",
     "output_type": "stream",
     "text": [
      "(8, 150, 150, 3)\n",
      "(8,)\n"
     ]
    }
   ],
   "source": [
    "for image_batch, labels_batch in train_datagen:\n",
    "    print(image_batch.shape)\n",
    "    print(labels_batch.shape)\n",
    "    break"
   ]
  },
  {
   "cell_type": "code",
   "execution_count": 20,
   "id": "75afbfe4",
   "metadata": {
    "ExecuteTime": {
     "end_time": "2023-08-17T10:03:56.759499Z",
     "start_time": "2023-08-17T10:03:56.743616Z"
    }
   },
   "outputs": [],
   "source": [
    "# DefaultConv2D = partial(tf.keras.layers.Conv2D, \n",
    "#                         kernel_size=3, \n",
    "#                         padding='same', \n",
    "#                         activation='relu',\n",
    "#                         kernel_initializer='he_normal')\n",
    "\n",
    "# model = tf.keras.models.Sequential([\n",
    "#     tf.keras.layers.Rescaling(1/255, input_shape=(224,224,3)),\n",
    "#     DefaultConv2D(filters=64, kernel_size=7),\n",
    "#     tf.keras.layers.MaxPool2D(),\n",
    "#     DefaultConv2D(filters=128),\n",
    "#     DefaultConv2D(filters=128),\n",
    "#     tf.keras.layers.MaxPool2D(),\n",
    "#     DefaultConv2D(filters=256),\n",
    "#     DefaultConv2D(filters=256),\n",
    "#     tf.keras.layers.MaxPool2D(),\n",
    "    \n",
    "#     tf.keras.layers.Flatten(),\n",
    "#     tf.keras.layers.Dense(units=128,\n",
    "#                           activation='relu',\n",
    "#                           kernel_initializer='he_normal'),\n",
    "#     tf.keras.layers.Dropout(0.5),\n",
    "#     tf.keras.layers.Dense(units=64,\n",
    "#                           activation='relu',\n",
    "#                           kernel_initializer='he_normal'),\n",
    "#     tf.keras.layers.Dropout(0.5),\n",
    "#     tf.keras.layers.Dense(units=1, activation='sigmoid')\n",
    "# ])\n",
    "\n",
    "def create_model():\n",
    "    model = tf.keras.Sequential([\n",
    "        tf.keras.layers.Rescaling(1/255, input_shape=(150, 150, 3)),\n",
    "        tf.keras.layers.Conv2D(16, (3,3), activation='relu'),\n",
    "        tf.keras.layers.MaxPooling2D(2,2),\n",
    "        tf.keras.layers.Conv2D(32, (3,3), activation='relu'),\n",
    "        tf.keras.layers.MaxPooling2D(2,2),\n",
    "        tf.keras.layers.Flatten(),\n",
    "        tf.keras.layers.Dense(32, activation='relu'),\n",
    "        tf.keras.layers.Dense(64, activation='relu'),\n",
    "        tf.keras.layers.Dense(1, activation='sigmoid')\n",
    "    ])\n",
    "    \n",
    "    model.compile(optimizer='adam',\n",
    "                  loss='binary_crossentropy',\n",
    "                  metrics=['accuracy'])\n",
    "    return model"
   ]
  },
  {
   "cell_type": "code",
   "execution_count": 21,
   "id": "c720df1f",
   "metadata": {
    "ExecuteTime": {
     "end_time": "2023-08-17T10:03:57.442284Z",
     "start_time": "2023-08-17T10:03:57.355090Z"
    }
   },
   "outputs": [],
   "source": [
    "model = create_model()"
   ]
  },
  {
   "cell_type": "code",
   "execution_count": 22,
   "id": "b616873f",
   "metadata": {
    "ExecuteTime": {
     "end_time": "2023-08-17T10:03:57.675296Z",
     "start_time": "2023-08-17T10:03:57.656082Z"
    }
   },
   "outputs": [],
   "source": [
    "model.compile(optimizer='adam', loss='binary_crossentropy', metrics=['accuracy'])"
   ]
  },
  {
   "cell_type": "code",
   "execution_count": 23,
   "id": "72db84b2",
   "metadata": {
    "ExecuteTime": {
     "end_time": "2023-08-17T10:03:58.810196Z",
     "start_time": "2023-08-17T10:03:58.769072Z"
    }
   },
   "outputs": [
    {
     "name": "stdout",
     "output_type": "stream",
     "text": [
      "Model: \"sequential\"\n",
      "_________________________________________________________________\n",
      " Layer (type)                Output Shape              Param #   \n",
      "=================================================================\n",
      " rescaling (Rescaling)       (None, 150, 150, 3)       0         \n",
      "                                                                 \n",
      " conv2d (Conv2D)             (None, 148, 148, 16)      448       \n",
      "                                                                 \n",
      " max_pooling2d (MaxPooling2  (None, 74, 74, 16)        0         \n",
      " D)                                                              \n",
      "                                                                 \n",
      " conv2d_1 (Conv2D)           (None, 72, 72, 32)        4640      \n",
      "                                                                 \n",
      " max_pooling2d_1 (MaxPoolin  (None, 36, 36, 32)        0         \n",
      " g2D)                                                            \n",
      "                                                                 \n",
      " flatten (Flatten)           (None, 41472)             0         \n",
      "                                                                 \n",
      " dense (Dense)               (None, 32)                1327136   \n",
      "                                                                 \n",
      " dense_1 (Dense)             (None, 64)                2112      \n",
      "                                                                 \n",
      " dense_2 (Dense)             (None, 1)                 65        \n",
      "                                                                 \n",
      "=================================================================\n",
      "Total params: 1334401 (5.09 MB)\n",
      "Trainable params: 1334401 (5.09 MB)\n",
      "Non-trainable params: 0 (0.00 Byte)\n",
      "_________________________________________________________________\n"
     ]
    }
   ],
   "source": [
    "model.summary()"
   ]
  },
  {
   "cell_type": "code",
   "execution_count": 24,
   "id": "fcb8c98c",
   "metadata": {
    "ExecuteTime": {
     "end_time": "2023-08-17T10:04:14.043146Z",
     "start_time": "2023-08-17T10:03:59.892957Z"
    }
   },
   "outputs": [
    {
     "name": "stdout",
     "output_type": "stream",
     "text": [
      "Epoch 1/10\n",
      "26/26 [==============================] - 2s 51ms/step - loss: 0.6331 - accuracy: 0.6946 - val_loss: 0.4922 - val_accuracy: 0.8200\n",
      "Epoch 2/10\n",
      "26/26 [==============================] - 1s 48ms/step - loss: 0.5032 - accuracy: 0.7685 - val_loss: 0.4805 - val_accuracy: 0.8400\n",
      "Epoch 3/10\n",
      "26/26 [==============================] - 1s 53ms/step - loss: 0.3879 - accuracy: 0.8473 - val_loss: 0.4571 - val_accuracy: 0.8400\n",
      "Epoch 4/10\n",
      "26/26 [==============================] - 1s 50ms/step - loss: 0.1954 - accuracy: 0.9360 - val_loss: 0.6879 - val_accuracy: 0.8600\n",
      "Epoch 5/10\n",
      "26/26 [==============================] - 1s 49ms/step - loss: 0.1462 - accuracy: 0.9310 - val_loss: 0.6984 - val_accuracy: 0.7600\n",
      "Epoch 6/10\n",
      "26/26 [==============================] - 1s 49ms/step - loss: 0.0973 - accuracy: 0.9655 - val_loss: 0.6468 - val_accuracy: 0.8600\n",
      "Epoch 7/10\n",
      "26/26 [==============================] - 1s 50ms/step - loss: 0.0178 - accuracy: 1.0000 - val_loss: 0.9846 - val_accuracy: 0.8600\n",
      "Epoch 8/10\n",
      "26/26 [==============================] - 1s 47ms/step - loss: 0.0042 - accuracy: 1.0000 - val_loss: 1.0097 - val_accuracy: 0.8600\n",
      "Epoch 9/10\n",
      "26/26 [==============================] - 1s 47ms/step - loss: 0.0021 - accuracy: 1.0000 - val_loss: 1.0951 - val_accuracy: 0.8600\n",
      "Epoch 10/10\n",
      "26/26 [==============================] - 1s 47ms/step - loss: 0.0011 - accuracy: 1.0000 - val_loss: 1.1572 - val_accuracy: 0.8600\n"
     ]
    }
   ],
   "source": [
    "# epochs=30\n",
    "# batch_size=8\n",
    "# early_stopping = EarlyStopping(\n",
    "#                 monitor='val_accuracy', \n",
    "#                 mode='max',\n",
    "#                 patience=6\n",
    "# )\n",
    "\n",
    "# history = model.fit(\n",
    "#         train_generator,\n",
    "#         epochs=epochs,\n",
    "#         validation_data=validation_generator,\n",
    "#         callbacks=[early_stopping]\n",
    "# )\n",
    "\n",
    "history = model.fit(train_datagen, validation_data=val_datagen, epochs=10)"
   ]
  },
  {
   "cell_type": "code",
   "execution_count": 27,
   "id": "d43dd1b7",
   "metadata": {
    "ExecuteTime": {
     "end_time": "2023-08-17T10:04:53.306548Z",
     "start_time": "2023-08-17T10:04:53.093267Z"
    }
   },
   "outputs": [
    {
     "data": {
      "image/png": "[encoded data removed]",
      "text/plain": [
       "<Figure size 640x480 with 1 Axes>"
      ]
     },
     "metadata": {},
     "output_type": "display_data"
    }
   ],
   "source": [
    "loss = history.history['loss']\n",
    "val_loss = history.history['val_loss']\n",
    "\n",
    "epochs =[*range(10)]\n",
    "\n",
    "plt.plot(epochs, loss, 'r')\n",
    "plt.plot(epochs, val_loss, 'b')\n",
    "plt.title('Training and validation loss')\n",
    "plt.xlabel(\"Epochs\")\n",
    "plt.ylabel(\"Loss\")\n",
    "plt.legend([\"Loss\", \"Validation Loss\"])\n",
    "plt.show()"
   ]
  },
  {
   "cell_type": "code",
   "execution_count": null,
   "id": "8cce3e55",
   "metadata": {},
   "outputs": [],
   "source": []
  },
  {
   "cell_type": "code",
   "execution_count": null,
   "id": "6a77cbce",
   "metadata": {},
   "outputs": [],
   "source": []
  },
  {
   "cell_type": "code",
   "execution_count": null,
   "id": "e7ff93d8",
   "metadata": {},
   "outputs": [],
   "source": []
  },
  {
   "cell_type": "code",
   "execution_count": null,
   "id": "fc126cf3",
   "metadata": {},
   "outputs": [],
   "source": []
  }
 ],
 "metadata": {
  "kernelspec": {
   "display_name": "Python 3 (ipykernel)",
   "language": "python",
   "name": "python3"
  },
  "language_info": {
   "codemirror_mode": {
    "name": "ipython",
    "version": 3
   },
   "file_extension": ".py",
   "mimetype": "text/x-python",
   "name": "python",
   "nbconvert_exporter": "python",
   "pygments_lexer": "ipython3",
   "version": "3.10.12"
  }
 },
 "nbformat": 4,
 "nbformat_minor": 5
}
